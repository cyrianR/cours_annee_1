{
 "cells": [
  {
   "cell_type": "code",
   "execution_count": 20,
   "id": "0637dd63-d24e-4077-876b-cda1d4afd1c1",
   "metadata": {},
   "outputs": [
    {
     "name": "stdout",
     "output_type": "stream",
     "text": [
      "*p_tab = 0\n",
      "*p_tab = a\n"
     ]
    }
   ],
   "source": [
    "//%cflags: -I .\n",
    "#include \"affichage.h\"\n",
    "int main() {\n",
    "    char* p_tab;\n",
    "    char tab1[3] = {'0', '1', '2'}; \n",
    "    char tab2[4] = {'a', 'b', 'c', 'd'};\n",
    "    p_tab = tab1;\n",
    "    afficher_carac(*p_tab);\n",
    "    p_tab = tab2;\n",
    "    afficher_carac(*p_tab);\n",
    "    return 0;\n",
    "}\n"
   ]
  },
  {
   "cell_type": "code",
   "execution_count": null,
   "id": "1a274587-14e1-4468-9218-7914d9b5739b",
   "metadata": {},
   "outputs": [],
   "source": []
  }
 ],
 "metadata": {
  "kernelspec": {
   "display_name": "C",
   "language": "c",
   "name": "c"
  },
  "language_info": {
   "file_extension": ".c",
   "mimetype": "text/plain",
   "name": "c"
  }
 },
 "nbformat": 4,
 "nbformat_minor": 5
}
